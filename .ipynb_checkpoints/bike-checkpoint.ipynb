{
 "cells": [
  {
   "cell_type": "code",
   "execution_count": 1,
   "metadata": {
    "collapsed": true
   },
   "outputs": [],
   "source": [
    "## Using Python3.5 ## Bike Sharing Try\n",
    "## Import Modules\n",
    "import numpy as np\n",
    "import pandas as pd\n",
    "import matplotlib.pyplot as plt\n",
    "import seaborn as sns\n",
    "import os"
   ]
  },
  {
   "cell_type": "code",
   "execution_count": 2,
   "metadata": {
    "collapsed": false
   },
   "outputs": [],
   "source": [
    "## Load data to Python\n",
    "# make python folder your current working directory\n",
    "if os.path.isdir('python'):\n",
    "\tos.chdir('python')\n",
    "bike = pd.read_csv('Bike.csv')"
   ]
  },
  {
   "cell_type": "code",
   "execution_count": 3,
   "metadata": {
    "collapsed": true
   },
   "outputs": [],
   "source": [
    "## Clean data\n",
    "## change spaces in columns to underscore then lowercase all items\n",
    "\n",
    "def change_col(data):\n",
    " new_col = [i.lower().replace(' ','_').replace('#','no') for i in data.columns]\n",
    " data.columns = new_col\n",
    " return data"
   ]
  },
  {
   "cell_type": "code",
   "execution_count": 4,
   "metadata": {
    "collapsed": false
   },
   "outputs": [
    {
     "data": {
      "text/html": [
       "<div>\n",
       "<table border=\"1\" class=\"dataframe\">\n",
       "  <thead>\n",
       "    <tr style=\"text-align: right;\">\n",
       "      <th></th>\n",
       "      <th>Trip ID</th>\n",
       "      <th>Duration</th>\n",
       "      <th>Start Date</th>\n",
       "      <th>Start Station</th>\n",
       "      <th>Start Terminal</th>\n",
       "      <th>End Date</th>\n",
       "      <th>End Station</th>\n",
       "      <th>End Terminal</th>\n",
       "      <th>Bike #</th>\n",
       "      <th>Subscriber Type</th>\n",
       "      <th>Zip Code</th>\n",
       "    </tr>\n",
       "  </thead>\n",
       "  <tbody>\n",
       "    <tr>\n",
       "      <th>0</th>\n",
       "      <td>432320</td>\n",
       "      <td>2740</td>\n",
       "      <td>8/31/2014 4:42</td>\n",
       "      <td>San Jose Diridon Caltrain Station</td>\n",
       "      <td>2</td>\n",
       "      <td>8/31/2014 5:28</td>\n",
       "      <td>San Jose Diridon Caltrain Station</td>\n",
       "      <td>2</td>\n",
       "      <td>696</td>\n",
       "      <td>Customer</td>\n",
       "      <td>85756</td>\n",
       "    </tr>\n",
       "    <tr>\n",
       "      <th>1</th>\n",
       "      <td>421410</td>\n",
       "      <td>1693</td>\n",
       "      <td>8/23/2014 12:30</td>\n",
       "      <td>San Jose Diridon Caltrain Station</td>\n",
       "      <td>2</td>\n",
       "      <td>8/23/2014 12:58</td>\n",
       "      <td>San Jose Diridon Caltrain Station</td>\n",
       "      <td>2</td>\n",
       "      <td>93</td>\n",
       "      <td>Subscriber</td>\n",
       "      <td>95112</td>\n",
       "    </tr>\n",
       "    <tr>\n",
       "      <th>2</th>\n",
       "      <td>391710</td>\n",
       "      <td>195</td>\n",
       "      <td>8/2/2014 20:10</td>\n",
       "      <td>San Jose Diridon Caltrain Station</td>\n",
       "      <td>2</td>\n",
       "      <td>8/2/2014 20:13</td>\n",
       "      <td>San Jose Diridon Caltrain Station</td>\n",
       "      <td>2</td>\n",
       "      <td>205</td>\n",
       "      <td>Subscriber</td>\n",
       "      <td>20010</td>\n",
       "    </tr>\n",
       "    <tr>\n",
       "      <th>3</th>\n",
       "      <td>381906</td>\n",
       "      <td>1272</td>\n",
       "      <td>7/27/2014 13:32</td>\n",
       "      <td>San Jose Diridon Caltrain Station</td>\n",
       "      <td>2</td>\n",
       "      <td>7/27/2014 13:54</td>\n",
       "      <td>San Jose Diridon Caltrain Station</td>\n",
       "      <td>2</td>\n",
       "      <td>119</td>\n",
       "      <td>Subscriber</td>\n",
       "      <td>95112</td>\n",
       "    </tr>\n",
       "    <tr>\n",
       "      <th>4</th>\n",
       "      <td>343925</td>\n",
       "      <td>101</td>\n",
       "      <td>6/29/2014 14:59</td>\n",
       "      <td>San Jose Diridon Caltrain Station</td>\n",
       "      <td>2</td>\n",
       "      <td>6/29/2014 15:01</td>\n",
       "      <td>San Jose Diridon Caltrain Station</td>\n",
       "      <td>2</td>\n",
       "      <td>44</td>\n",
       "      <td>Subscriber</td>\n",
       "      <td>95112</td>\n",
       "    </tr>\n",
       "  </tbody>\n",
       "</table>\n",
       "</div>"
      ],
      "text/plain": [
       "   Trip ID  Duration       Start Date                      Start Station  \\\n",
       "0   432320      2740   8/31/2014 4:42  San Jose Diridon Caltrain Station   \n",
       "1   421410      1693  8/23/2014 12:30  San Jose Diridon Caltrain Station   \n",
       "2   391710       195   8/2/2014 20:10  San Jose Diridon Caltrain Station   \n",
       "3   381906      1272  7/27/2014 13:32  San Jose Diridon Caltrain Station   \n",
       "4   343925       101  6/29/2014 14:59  San Jose Diridon Caltrain Station   \n",
       "\n",
       "   Start Terminal         End Date                        End Station  \\\n",
       "0               2   8/31/2014 5:28  San Jose Diridon Caltrain Station   \n",
       "1               2  8/23/2014 12:58  San Jose Diridon Caltrain Station   \n",
       "2               2   8/2/2014 20:13  San Jose Diridon Caltrain Station   \n",
       "3               2  7/27/2014 13:54  San Jose Diridon Caltrain Station   \n",
       "4               2  6/29/2014 15:01  San Jose Diridon Caltrain Station   \n",
       "\n",
       "   End Terminal  Bike # Subscriber Type Zip Code  \n",
       "0             2     696        Customer    85756  \n",
       "1             2      93      Subscriber    95112  \n",
       "2             2     205      Subscriber    20010  \n",
       "3             2     119      Subscriber    95112  \n",
       "4             2      44      Subscriber    95112  "
      ]
     },
     "execution_count": 4,
     "metadata": {},
     "output_type": "execute_result"
    }
   ],
   "source": [
    "## Exploratory Data Analysis\n",
    "bike.head()"
   ]
  },
  {
   "cell_type": "code",
   "execution_count": 5,
   "metadata": {
    "collapsed": false
   },
   "outputs": [
    {
     "data": {
      "text/html": [
       "<div>\n",
       "<table border=\"1\" class=\"dataframe\">\n",
       "  <thead>\n",
       "    <tr style=\"text-align: right;\">\n",
       "      <th></th>\n",
       "      <th>Trip ID</th>\n",
       "      <th>Duration</th>\n",
       "      <th>Start Date</th>\n",
       "      <th>Start Station</th>\n",
       "      <th>Start Terminal</th>\n",
       "      <th>End Date</th>\n",
       "      <th>End Station</th>\n",
       "      <th>End Terminal</th>\n",
       "      <th>Bike #</th>\n",
       "      <th>Subscriber Type</th>\n",
       "      <th>Zip Code</th>\n",
       "    </tr>\n",
       "  </thead>\n",
       "  <tbody>\n",
       "    <tr>\n",
       "      <th>171787</th>\n",
       "      <td>277755</td>\n",
       "      <td>145</td>\n",
       "      <td>5/9/2014 8:31</td>\n",
       "      <td>Ryland Park</td>\n",
       "      <td>84</td>\n",
       "      <td>5/9/2014 8:33</td>\n",
       "      <td>Ryland Park</td>\n",
       "      <td>84</td>\n",
       "      <td>656</td>\n",
       "      <td>Subscriber</td>\n",
       "      <td>95112</td>\n",
       "    </tr>\n",
       "    <tr>\n",
       "      <th>171788</th>\n",
       "      <td>271938</td>\n",
       "      <td>10297</td>\n",
       "      <td>5/5/2014 9:58</td>\n",
       "      <td>Ryland Park</td>\n",
       "      <td>84</td>\n",
       "      <td>5/5/2014 12:50</td>\n",
       "      <td>Ryland Park</td>\n",
       "      <td>84</td>\n",
       "      <td>72</td>\n",
       "      <td>Customer</td>\n",
       "      <td>95116</td>\n",
       "    </tr>\n",
       "    <tr>\n",
       "      <th>171789</th>\n",
       "      <td>262290</td>\n",
       "      <td>125</td>\n",
       "      <td>4/27/2014 13:11</td>\n",
       "      <td>Ryland Park</td>\n",
       "      <td>84</td>\n",
       "      <td>4/27/2014 13:13</td>\n",
       "      <td>Ryland Park</td>\n",
       "      <td>84</td>\n",
       "      <td>49</td>\n",
       "      <td>Subscriber</td>\n",
       "      <td>95112</td>\n",
       "    </tr>\n",
       "    <tr>\n",
       "      <th>171790</th>\n",
       "      <td>247257</td>\n",
       "      <td>804</td>\n",
       "      <td>4/14/2014 9:36</td>\n",
       "      <td>Ryland Park</td>\n",
       "      <td>84</td>\n",
       "      <td>4/14/2014 9:49</td>\n",
       "      <td>Ryland Park</td>\n",
       "      <td>84</td>\n",
       "      <td>143</td>\n",
       "      <td>Subscriber</td>\n",
       "      <td>95112</td>\n",
       "    </tr>\n",
       "    <tr>\n",
       "      <th>171791</th>\n",
       "      <td>247256</td>\n",
       "      <td>804</td>\n",
       "      <td>4/14/2014 9:36</td>\n",
       "      <td>Ryland Park</td>\n",
       "      <td>84</td>\n",
       "      <td>4/14/2014 9:49</td>\n",
       "      <td>Ryland Park</td>\n",
       "      <td>84</td>\n",
       "      <td>57</td>\n",
       "      <td>Subscriber</td>\n",
       "      <td>95112</td>\n",
       "    </tr>\n",
       "  </tbody>\n",
       "</table>\n",
       "</div>"
      ],
      "text/plain": [
       "        Trip ID  Duration       Start Date Start Station  Start Terminal  \\\n",
       "171787   277755       145    5/9/2014 8:31   Ryland Park              84   \n",
       "171788   271938     10297    5/5/2014 9:58   Ryland Park              84   \n",
       "171789   262290       125  4/27/2014 13:11   Ryland Park              84   \n",
       "171790   247257       804   4/14/2014 9:36   Ryland Park              84   \n",
       "171791   247256       804   4/14/2014 9:36   Ryland Park              84   \n",
       "\n",
       "               End Date  End Station  End Terminal  Bike # Subscriber Type  \\\n",
       "171787    5/9/2014 8:33  Ryland Park            84     656      Subscriber   \n",
       "171788   5/5/2014 12:50  Ryland Park            84      72        Customer   \n",
       "171789  4/27/2014 13:13  Ryland Park            84      49      Subscriber   \n",
       "171790   4/14/2014 9:49  Ryland Park            84     143      Subscriber   \n",
       "171791   4/14/2014 9:49  Ryland Park            84      57      Subscriber   \n",
       "\n",
       "       Zip Code  \n",
       "171787    95112  \n",
       "171788    95116  \n",
       "171789    95112  \n",
       "171790    95112  \n",
       "171791    95112  "
      ]
     },
     "execution_count": 5,
     "metadata": {},
     "output_type": "execute_result"
    }
   ],
   "source": [
    "bike.tail()"
   ]
  },
  {
   "cell_type": "code",
   "execution_count": 6,
   "metadata": {
    "collapsed": false
   },
   "outputs": [
    {
     "name": "stdout",
     "output_type": "stream",
     "text": [
      "<class 'pandas.core.frame.DataFrame'>\n",
      "RangeIndex: 171792 entries, 0 to 171791\n",
      "Data columns (total 11 columns):\n",
      "Trip ID            171792 non-null int64\n",
      "Duration           171792 non-null int64\n",
      "Start Date         171792 non-null object\n",
      "Start Station      171792 non-null object\n",
      "Start Terminal     171792 non-null int64\n",
      "End Date           171792 non-null object\n",
      "End Station        171792 non-null object\n",
      "End Terminal       171792 non-null int64\n",
      "Bike #             171792 non-null int64\n",
      "Subscriber Type    171792 non-null object\n",
      "Zip Code           171581 non-null object\n",
      "dtypes: int64(5), object(6)\n",
      "memory usage: 14.4+ MB\n"
     ]
    }
   ],
   "source": [
    "bike.info()"
   ]
  },
  {
   "cell_type": "code",
   "execution_count": 7,
   "metadata": {
    "collapsed": false
   },
   "outputs": [
    {
     "data": {
      "text/html": [
       "<div>\n",
       "<table border=\"1\" class=\"dataframe\">\n",
       "  <thead>\n",
       "    <tr style=\"text-align: right;\">\n",
       "      <th></th>\n",
       "      <th>Trip ID</th>\n",
       "      <th>Duration</th>\n",
       "      <th>Start Terminal</th>\n",
       "      <th>End Terminal</th>\n",
       "      <th>Bike #</th>\n",
       "    </tr>\n",
       "  </thead>\n",
       "  <tbody>\n",
       "    <tr>\n",
       "      <th>count</th>\n",
       "      <td>171792.000000</td>\n",
       "      <td>171792.000000</td>\n",
       "      <td>171792.000000</td>\n",
       "      <td>171792.000000</td>\n",
       "      <td>171792.000000</td>\n",
       "    </tr>\n",
       "    <tr>\n",
       "      <th>mean</th>\n",
       "      <td>315198.766503</td>\n",
       "      <td>1132.514250</td>\n",
       "      <td>57.403622</td>\n",
       "      <td>57.382090</td>\n",
       "      <td>429.216692</td>\n",
       "    </tr>\n",
       "    <tr>\n",
       "      <th>std</th>\n",
       "      <td>67369.726104</td>\n",
       "      <td>6084.234943</td>\n",
       "      <td>17.599744</td>\n",
       "      <td>17.668405</td>\n",
       "      <td>151.841710</td>\n",
       "    </tr>\n",
       "    <tr>\n",
       "      <th>min</th>\n",
       "      <td>198776.000000</td>\n",
       "      <td>60.000000</td>\n",
       "      <td>2.000000</td>\n",
       "      <td>2.000000</td>\n",
       "      <td>9.000000</td>\n",
       "    </tr>\n",
       "    <tr>\n",
       "      <th>25%</th>\n",
       "      <td>256967.750000</td>\n",
       "      <td>345.000000</td>\n",
       "      <td>50.000000</td>\n",
       "      <td>50.000000</td>\n",
       "      <td>335.000000</td>\n",
       "    </tr>\n",
       "    <tr>\n",
       "      <th>50%</th>\n",
       "      <td>314366.500000</td>\n",
       "      <td>517.000000</td>\n",
       "      <td>61.000000</td>\n",
       "      <td>61.000000</td>\n",
       "      <td>442.000000</td>\n",
       "    </tr>\n",
       "    <tr>\n",
       "      <th>75%</th>\n",
       "      <td>373070.250000</td>\n",
       "      <td>761.000000</td>\n",
       "      <td>70.000000</td>\n",
       "      <td>70.000000</td>\n",
       "      <td>546.000000</td>\n",
       "    </tr>\n",
       "    <tr>\n",
       "      <th>max</th>\n",
       "      <td>432946.000000</td>\n",
       "      <td>716480.000000</td>\n",
       "      <td>84.000000</td>\n",
       "      <td>84.000000</td>\n",
       "      <td>878.000000</td>\n",
       "    </tr>\n",
       "  </tbody>\n",
       "</table>\n",
       "</div>"
      ],
      "text/plain": [
       "             Trip ID       Duration  Start Terminal   End Terminal  \\\n",
       "count  171792.000000  171792.000000   171792.000000  171792.000000   \n",
       "mean   315198.766503    1132.514250       57.403622      57.382090   \n",
       "std     67369.726104    6084.234943       17.599744      17.668405   \n",
       "min    198776.000000      60.000000        2.000000       2.000000   \n",
       "25%    256967.750000     345.000000       50.000000      50.000000   \n",
       "50%    314366.500000     517.000000       61.000000      61.000000   \n",
       "75%    373070.250000     761.000000       70.000000      70.000000   \n",
       "max    432946.000000  716480.000000       84.000000      84.000000   \n",
       "\n",
       "              Bike #  \n",
       "count  171792.000000  \n",
       "mean      429.216692  \n",
       "std       151.841710  \n",
       "min         9.000000  \n",
       "25%       335.000000  \n",
       "50%       442.000000  \n",
       "75%       546.000000  \n",
       "max       878.000000  "
      ]
     },
     "execution_count": 7,
     "metadata": {},
     "output_type": "execute_result"
    }
   ],
   "source": [
    "bike.describe()"
   ]
  },
  {
   "cell_type": "code",
   "execution_count": 8,
   "metadata": {
    "collapsed": true
   },
   "outputs": [],
   "source": [
    "def change_col(data):\n",
    " new_col = [i.lower().replace(' ','_').replace('#','no') for i in data.columns]\n",
    " data.columns = new_col\n",
    " return data\n",
    "bike = change_col(bike)"
   ]
  },
  {
   "cell_type": "code",
   "execution_count": 9,
   "metadata": {
    "collapsed": true
   },
   "outputs": [],
   "source": [
    "# Load functions\n",
    "def ecdf(col):\n",
    "\t\"\"\"Compute ECDF for a one-dimensional array of measurements.\"\"\"\n",
    "\tn = len(col) # Number of data points: n\n",
    "\tx = np.sort(col) # x-data for the ECDF: x\n",
    "\ty = np.arange(1, n+1) / float(n) # y-data for the ECDF: y\n",
    "\treturn x,y"
   ]
  },
  {
   "cell_type": "code",
   "execution_count": 10,
   "metadata": {
    "collapsed": false
   },
   "outputs": [],
   "source": [
    "mean = np.mean(bike.duration)\n",
    "std = np.std(bike.duration)\n",
    "samples_exp = np.random.exponential(mean, size = 1000000)\n",
    "samples_norm = np.random.normal(mean,std, size = 1000000)"
   ]
  },
  {
   "cell_type": "code",
   "execution_count": 11,
   "metadata": {
    "collapsed": true
   },
   "outputs": [],
   "source": [
    "x, y = ecdf(bike[(bike.duration < 15000)].duration)\n",
    "x_theor, y_theor = ecdf(samples_exp)"
   ]
  },
  {
   "cell_type": "code",
   "execution_count": 14,
   "metadata": {
    "collapsed": false
   },
   "outputs": [
    {
     "data": {
      "image/png": "[encoded data removed]",
      "text/plain": [
       "<matplotlib.figure.Figure at 0x11d28908>"
      ]
     },
     "metadata": {},
     "output_type": "display_data"
    }
   ],
   "source": [
    "_ = plt.plot(x,y,marker = '.', linestyle = 'none')\n",
    "_ = plt.plot(x_theor,y_theor)\n",
    "_ = plt.xlabel('Duration of Bike Ride')\n",
    "_ = plt.ylabel('ECDF')\n",
    "_ = plt.margins(0.02)\n",
    "plt.show()"
   ]
  }
 ],
 "metadata": {
  "anaconda-cloud": {},
  "kernelspec": {
   "display_name": "Python [conda root]",
   "language": "python",
   "name": "conda-root-py"
  },
  "language_info": {
   "codemirror_mode": {
    "name": "ipython",
    "version": 3
   },
   "file_extension": ".py",
   "mimetype": "text/x-python",
   "name": "python",
   "nbconvert_exporter": "python",
   "pygments_lexer": "ipython3",
   "version": "3.5.2"
  }
 },
 "nbformat": 4,
 "nbformat_minor": 1
}
