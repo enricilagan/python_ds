{
 "cells": [
  {
   "cell_type": "code",
   "execution_count": null,
   "metadata": {},
   "outputs": [],
   "source": [
    "# import packages\n",
    "import numpy as np\n",
    "import pandas as pd\n",
    "import matplotlib.pyplot as plt\n",
    "import seaborn as sns\n",
    "import math\n",
    "import re\n",
    "import os\n",
    "plt.style.use('ggplot')"
   ]
  },
  {
   "cell_type": "code",
   "execution_count": null,
   "metadata": {},
   "outputs": [],
   "source": [
    "# Load titanic data frame, create new columns 'dataset' then concatenate the 2 data\n",
    "train = pd.read_csv('../datasets/titanic/train.csv')\n",
    "test = pd.read_csv('../datasets/titanic/test.csv')\n",
    "\n",
    "titanic_train = train.copy()\n",
    "titanic_test = test.copy()\n",
    "titanic_train['Dataset'] = 'train'\n",
    "titanic_test['Dataset'] = 'test'\n"
   ]
  },
  {
   "cell_type": "code",
   "execution_count": null,
   "metadata": {},
   "outputs": [],
   "source": [
    "titanic_test.columns"
   ]
  },
  {
   "cell_type": "code",
   "execution_count": null,
   "metadata": {},
   "outputs": [],
   "source": [
    "sns.countplot(train['Survived'])"
   ]
  },
  {
   "cell_type": "code",
   "execution_count": null,
   "metadata": {},
   "outputs": [],
   "source": [
    "train['Survived'].groupby(train['Pclass']).mean()"
   ]
  },
  {
   "cell_type": "code",
   "execution_count": null,
   "metadata": {},
   "outputs": [],
   "source": [
    "# Plotting Survival with age, there are many 20 plus people that did not make it, \n",
    "# as for Pclass, a lot of class 3 passenger were not able to survive the tragedy.\n",
    "sns.violinplot(x = 'Pclass', y = 'Age', data = train, inner = None, color = 'lightgray')\n",
    "sns.stripplot(x = 'Pclass', y = 'Age', data = train, size = 4, jitter= True, hue = 'Survived')\n",
    "plt.show()"
   ]
  },
  {
   "cell_type": "code",
   "execution_count": null,
   "metadata": {},
   "outputs": [],
   "source": [
    "def change_col(data):\n",
    "    new_col = [i.lower().replace(' ','_').replace('#','no') for i in data.columns]\n",
    "    data.columns = new_col\n",
    "    return data\n",
    "\n",
    "\n",
    "titanic_train = change_col(titanic_train)\n",
    "titanic_test = change_col(titanic_test)\n",
    "y = titanic_train['survived']\n",
    "titanic_test['survived'] = 0"
   ]
  },
  {
   "cell_type": "code",
   "execution_count": null,
   "metadata": {},
   "outputs": [],
   "source": [
    "titanic = pd.concat([titanic_train, titanic_test], sort = False)\n",
    "titanic.head()"
   ]
  },
  {
   "cell_type": "code",
   "execution_count": null,
   "metadata": {},
   "outputs": [],
   "source": [
    "titanic_train['name_split'] = titanic.name.str.split('\\, ')\n",
    "titanic_train['lname'] = titanic.name_split.str.get(0)\n",
    "titanic_train['fname'] = titanic.name_split.str.get(1)\n",
    "titanic_train['fname'] = titanic.fname.str.split('\\. ')\n",
    "titanic_train['title'] = titanic.fname.str.get(0)\n",
    "titanic_train['fname'] = titanic.fname.str.get(1)\n",
    "del titanic['name_split']"
   ]
  },
  {
   "cell_type": "code",
   "execution_count": null,
   "metadata": {},
   "outputs": [],
   "source": [
    "# title_new = titanic.title.copy()\n",
    "# titanic.title.value_counts()"
   ]
  },
  {
   "cell_type": "code",
   "execution_count": null,
   "metadata": {},
   "outputs": [],
   "source": [
    "# filt = ['Mr','Mrs','Miss','Master']\n",
    "# titanic.loc[~titanic.title.isin(filt),'title'].value_counts()\n",
    "\n",
    "#Change Ms and Mlle to Miss\n",
    "# title_new[title_new.isin(['Ms','Mlle','Miss'])] = 'Miss'\n",
    "# title_new[title_new == 'Mme'] = 'Mrs'\n",
    "# title_new[~title_new.isin(filt)] = 'Honorific'\n",
    "# title_new.value_counts()"
   ]
  },
  {
   "cell_type": "code",
   "execution_count": null,
   "metadata": {},
   "outputs": [],
   "source": [
    "\"\"\"\n",
    "titanic.loc[:,'new_title'] = title_new\n",
    "titanic.loc[np.logical_and(titanic.new_title == 'Honorific',\n",
    "                                 titanic.sex == 'male'),'new_title'] = 'Honorific_male'\n",
    "titanic.loc[np.logical_and(titanic.new_title == 'Honorific',\n",
    "                                 titanic.sex == 'female'),'new_title'] = 'Honorific_female'\n",
    "                                 \n",
    "\"\"\""
   ]
  },
  {
   "cell_type": "code",
   "execution_count": null,
   "metadata": {},
   "outputs": [],
   "source": []
  },
  {
   "cell_type": "code",
   "execution_count": null,
   "metadata": {},
   "outputs": [],
   "source": [
    "tickets = titanic.loc[:,'ticket'].value_counts()\n",
    "\n",
    "from collections import defaultdict\n",
    "\n",
    "ticket_cnt = defaultdict(int)\n",
    "for x in range(len(tickets)):\n",
    "    ticket_cnt[tickets.index[x]] = tickets.values[x]\n"
   ]
  },
  {
   "cell_type": "code",
   "execution_count": null,
   "metadata": {},
   "outputs": [],
   "source": [
    "# Dividing joint ticket fare within all passengers for that ticket\n",
    "def get_new_fare(passenger):\n",
    "    ticket, fare = passenger\n",
    "    if ticket in ticket_cnt:\n",
    "        return round(fare/ticket_cnt[ticket],2)\n",
    "\n",
    "# Creating new column for number of passengers in joint ticket\n",
    "def joint_ticket_check(passenger):\n",
    "    ticket = passenger\n",
    "    if ticket in ticket_cnt:\n",
    "        return ticket_cnt[ticket]\n",
    "    \n",
    "titanic['new_fare'] = titanic[['ticket','fare']].apply(get_new_fare, axis =1)\n",
    "# titanic['passengers_in_ticket'] = titanic['ticket'].apply(joint_ticket_check)"
   ]
  },
  {
   "cell_type": "code",
   "execution_count": null,
   "metadata": {},
   "outputs": [],
   "source": [
    "titanic.passengers_in_ticket\n",
    "#titanic.loc[titanic.title == 'Master', 'survived'].value_counts()\n",
    "\n"
   ]
  },
  {
   "cell_type": "code",
   "execution_count": null,
   "metadata": {},
   "outputs": [],
   "source": [
    "# passengers are list of tuples that hold all info for NULL Age, found in Titanic Encyclopedia Website\n",
    "from passengers import passengers\n",
    "\n",
    "titanic.loc[(titanic.age.isnull()) & (titanic.title == 'Dr'), 'age'] = 46\n",
    "\n",
    "# Going thru all the list of passengers in passengers.py\n",
    "for x in passengers:\n",
    "    titanic.loc[(titanic.ticket == x[0]) & (titanic.fname == x[1]), 'age'] = x[2]\n",
    "\n",
    "# Using median for the rest of the missing age for 'Miss' title\n",
    "titanic.loc[(round(titanic.fare, 2) == titanic.new_fare) & (titanic.sibsp == 0) & (titanic.parch == 0) \n",
    "            & (titanic.age.isnull()) & (titanic.new_title == 'Miss'), 'age'] = 24\n",
    "\n",
    "# Setting age for passengers with title Mrs using mean with respect to pclass, \n",
    "titanic.loc[(titanic.age.isnull()) & (titanic.title == 'Mrs') & (titanic.pclass == 1), 'age'] = 45\n",
    "titanic.loc[(titanic.age.isnull()) & (titanic.title == 'Mrs') & (titanic.pclass == 3), 'age'] = 31\n",
    "titanic.loc[(round(titanic.fare, 2) == titanic.new_fare) & (titanic.sibsp == 0) & (titanic.parch == 0) \n",
    "            & (titanic.age.isnull()) & (titanic.title == 'Mr'), 'age'] = 29\n"
   ]
  },
  {
   "cell_type": "code",
   "execution_count": null,
   "metadata": {},
   "outputs": [],
   "source": [
    "# Getting new_fare for the fare that was NULL\n",
    "titanic.loc[titanic.fare.isnull(), 'new_fare'] = 7.8\n",
    "\n",
    "# Upon searching the NULL embarked, were seen to have embarked on S\n",
    "titanic.loc[titanic.embarked.isnull(), 'embarked'] = 'S'\n",
    "\n",
    "# Changing the relationship of joint ticket 2662, they were father and son\n",
    "titanic.loc[titanic.ticket == '2662',['sibsp','parch']] = [1,1]\n",
    "titanic.loc[(titanic.ticket == '2662') & (titanic.fname == 'Hanna'),['sibsp','parch']] = [0,2]\n",
    "\n",
    "# Setting Cabin for Peter Family to match Anna's\n",
    "titanic.loc[(titanic.ticket == '2668'), 'cabin'] = 'F E69'\n",
    "\n",
    "# Changing Bourke's Age and its sibsp and parch\n",
    "titanic.loc[(titanic.lname == 'Bourke') & (titanic.age.isnull()), ['sibsp', 'parch', 'age']] = [1, 0, 40]\n",
    "\n",
    "# Converting Fare for Hagland as it is eronous\n",
    "titanic.loc[titanic.lname == 'Hagland', 'new_fare'] = round(19.9667/3,2)\n",
    "titanic.loc[(titanic.age.isnull()), 'title'].value_counts()\n",
    "\n"
   ]
  },
  {
   "cell_type": "code",
   "execution_count": null,
   "metadata": {},
   "outputs": [],
   "source": [
    "def male_female_child(passenger):\n",
    "    age, sex, title = passenger\n",
    "    if age < 15 and title != 'Mrs':\n",
    "        return 'child'\n",
    "    else:\n",
    "        return sex    \n",
    "\n",
    "titanic['gender'] = titanic[['age','sex','new_title']].apply(male_female_child,axis=1)"
   ]
  },
  {
   "cell_type": "code",
   "execution_count": null,
   "metadata": {},
   "outputs": [],
   "source": [
    "def age_group(passenger):\n",
    "    age = passenger\n",
    "    if age < 15:\n",
    "        return 'child'\n",
    "    elif 15 <= age <= 35: \n",
    "        return 'adult'\n",
    "    elif 35 < age <= 55: \n",
    "        return 'mid_age'\n",
    "    elif age > 55: \n",
    "        return 'senior'\n",
    "\n",
    "titanic['age_group'] = titanic['age'].apply(age_group)"
   ]
  },
  {
   "cell_type": "code",
   "execution_count": null,
   "metadata": {},
   "outputs": [],
   "source": [
    "last_names = np.unique(titanic.loc[(titanic.gender == 'child'),['lname']].values)\n",
    "\n",
    "def with_child(passenger):\n",
    "    lname = passenger\n",
    "    if lname in last_names:\n",
    "        return 1\n",
    "    else:\n",
    "        return 0\n",
    "    \n",
    "titanic['w_child'] = titanic.lname.apply(with_child)\n",
    "\n",
    "# Observation 1: Check Survivor based on companion in ticket, \n",
    "# Added number of people in joint ticket\n"
   ]
  },
  {
   "cell_type": "code",
   "execution_count": null,
   "metadata": {},
   "outputs": [],
   "source": [
    "df1 = pd.pivot_table(titanic, index=['lname'],values=['survived'], aggfunc=np.sum)\n",
    "\n",
    "df2 = pd.pivot_table(titanic, index=['lname'],values=['survived'], aggfunc=len)\n",
    "\n",
    "df3 = pd.concat([df1,df2],axis=1)\n",
    "\n",
    "df3.columns = ['survived', 'count']\n",
    "df3['died'] = df3['count'] - df3['survived']\n",
    "\n",
    "df3.index\n",
    "\n",
    "def how_many_died(passenger):\n",
    "    lname = passenger\n",
    "    if lname in df3.index:\n",
    "        return df3.loc[lname,'survived']\n",
    "    else:\n",
    "        return 0 \n",
    "\n",
    "def did_any_survived(passenger):\n",
    "    lname = passenger\n",
    "    if lname in df3.index:\n",
    "        if df3.loc[lname,'survived'] != 0:\n",
    "            return 1\n",
    "        else:\n",
    "            return 0 \n",
    "    \n",
    "\n",
    "titanic['how_many_survived'] = titanic['lname'].apply(how_many_died)\n",
    "titanic['any_survivors'] = titanic['lname'].apply(did_any_survived)\n"
   ]
  },
  {
   "cell_type": "code",
   "execution_count": null,
   "metadata": {},
   "outputs": [],
   "source": [
    "titanic['how_many_survived'].value_counts()"
   ]
  },
  {
   "cell_type": "code",
   "execution_count": null,
   "metadata": {},
   "outputs": [],
   "source": [
    "titanic['any_survivors'].value_counts()"
   ]
  },
  {
   "cell_type": "code",
   "execution_count": null,
   "metadata": {},
   "outputs": [],
   "source": [
    "def remove_punctuation(input_string):\n",
    "    \"\"\"Remove everything except numbers in string\"\"\"\n",
    "    return ''.join(re.findall(r'[0-9]', input_string))\n"
   ]
  },
  {
   "cell_type": "code",
   "execution_count": null,
   "metadata": {},
   "outputs": [],
   "source": [
    "titanic['w_family'] = titanic.parch + titanic.sibsp\n",
    "titanic.loc[titanic.w_family > 0,'w_family'] = 1\n",
    "titanic.loc[titanic.w_family == 0,'w_family'] = 0\n",
    "titanic['w_family'].value_counts()"
   ]
  },
  {
   "cell_type": "code",
   "execution_count": null,
   "metadata": {},
   "outputs": [],
   "source": [
    "titanic.cabin.str[0].groupby(titanic.cabin.str[0]).count()"
   ]
  },
  {
   "cell_type": "code",
   "execution_count": null,
   "metadata": {},
   "outputs": [],
   "source": [
    "titanic.info()"
   ]
  },
  {
   "cell_type": "code",
   "execution_count": null,
   "metadata": {},
   "outputs": [],
   "source": [
    "#Separate Train Data with Test Data\n",
    "titanic_train = titanic.loc[titanic['dataset'] == 'train']\n",
    "titanic_test = titanic.loc[titanic['dataset'] == 'test']\n",
    "titanic_test = titanic_test.drop(['survived'], axis=1)\n"
   ]
  },
  {
   "cell_type": "code",
   "execution_count": null,
   "metadata": {},
   "outputs": [],
   "source": [
    "titanic_train.head()"
   ]
  },
  {
   "cell_type": "code",
   "execution_count": null,
   "metadata": {},
   "outputs": [],
   "source": [
    "titanic_test.head()"
   ]
  },
  {
   "cell_type": "code",
   "execution_count": null,
   "metadata": {},
   "outputs": [],
   "source": [
    "# Clean columns, check age column first\n",
    "plt.hist(titanic_train.age, bins = 20)\n",
    "plt.show()"
   ]
  },
  {
   "cell_type": "code",
   "execution_count": null,
   "metadata": {},
   "outputs": [],
   "source": [
    "#It can be seen here that female has positive linear regression while male has negative,\n",
    "# suggests that as male age increases chance of survival decreases and this is vice versa for females\n",
    "sns.lmplot(x='age', y='survived', hue = 'sex', data = titanic_train)\n",
    "plt.show()"
   ]
  },
  {
   "cell_type": "code",
   "execution_count": null,
   "metadata": {},
   "outputs": [],
   "source": [
    "# Gender and Survived Plot.\n",
    "sns.catplot('age_group', hue = 'survived', data = titanic_train, kind = 'count', aspect = 1.25)\n",
    "plt.show()"
   ]
  },
  {
   "cell_type": "code",
   "execution_count": null,
   "metadata": {},
   "outputs": [],
   "source": [
    "# Gender and Survived Plot.\n",
    "sns.catplot('gender', hue = 'survived', data = titanic_train, kind = 'count', aspect = 1.25)\n",
    "plt.show()"
   ]
  },
  {
   "cell_type": "code",
   "execution_count": null,
   "metadata": {},
   "outputs": [],
   "source": [
    "#Shows that fare might be a little bit related to survival as there are more survivors in higher fares\n",
    "sns.violinplot(x = 'sex', y = 'new_fare', data = titanic_train, inner = None, color = 'lightgray')\n",
    "sns.stripplot(x = 'sex', y = 'new_fare', data = titanic_train, size = 4, jitter= True, hue = 'survived')\n",
    "plt.show()"
   ]
  },
  {
   "cell_type": "code",
   "execution_count": null,
   "metadata": {},
   "outputs": [],
   "source": [
    "sns.lmplot(x='any_survivors', y='survived', hue = 'sex', data = titanic_train)\n",
    "plt.show()"
   ]
  },
  {
   "cell_type": "code",
   "execution_count": null,
   "metadata": {},
   "outputs": [],
   "source": []
  },
  {
   "cell_type": "code",
   "execution_count": null,
   "metadata": {},
   "outputs": [],
   "source": [
    "# Gender and Survived Plot.\n",
    "sns.catplot('any_survivors', hue = 'survived', data = titanic_train, kind = 'count', aspect = 1.25)\n",
    "plt.show()"
   ]
  },
  {
   "cell_type": "code",
   "execution_count": null,
   "metadata": {},
   "outputs": [],
   "source": [
    "def pearson_r(x, y):\n",
    "    \"\"\"Compute Pearson correlation coefficient between two arrays.\"\"\"\n",
    "    # Compute correlation matrix: corr_mat\n",
    "    corr_mat = np.corrcoef(x,y)\n",
    "    # Return entry [0,1]\n",
    "    return corr_mat[0,1]"
   ]
  },
  {
   "cell_type": "code",
   "execution_count": null,
   "metadata": {},
   "outputs": [],
   "source": [
    "print(pearson_r(x= titanic_train.any_survivors, y = titanic_train['survived']))\n",
    "print(pearson_r(x= titanic_train.pclass, y = titanic_train['survived']))\n",
    "print(pearson_r(x= titanic_train.new_fare, y = titanic_train['survived']))"
   ]
  },
  {
   "cell_type": "code",
   "execution_count": null,
   "metadata": {},
   "outputs": [],
   "source": [
    "sns.catplot('gender', hue = 'survived', data = titanic_train, kind = 'count', aspect = 1.25)\n",
    "plt.show()"
   ]
  },
  {
   "cell_type": "code",
   "execution_count": null,
   "metadata": {},
   "outputs": [],
   "source": [
    "sns.catplot('pclass', hue = 'survived', data = titanic_train, kind = 'count', aspect = 1.25)\n",
    "plt.show()"
   ]
  },
  {
   "cell_type": "code",
   "execution_count": null,
   "metadata": {},
   "outputs": [],
   "source": [
    "titanic_test = titanic_test.drop('dataset', axis = 1)\n",
    "titanic_train = titanic_train.drop('dataset', axis = 1)"
   ]
  },
  {
   "cell_type": "code",
   "execution_count": null,
   "metadata": {},
   "outputs": [],
   "source": [
    "titanic_train.info()"
   ]
  },
  {
   "cell_type": "code",
   "execution_count": null,
   "metadata": {},
   "outputs": [],
   "source": [
    "y = titanic_train['survived']\n",
    "\n",
    "data = titanic_train.copy()\n",
    "data = data.drop(['sibsp','parch','how_many_survived','passengerid','name','sex','ticket',\n",
    "                  'fare','cabin','lname','fname','title','age_group',\n",
    "                  'survived'], axis = 1)\n",
    "data_test = titanic_test.copy()\n",
    "data_test = data_test.drop(['sibsp','parch','how_many_survived','passengerid','name','sex','ticket',\n",
    "                  'fare','cabin','lname','fname','title','age_group',], axis = 1)\n",
    "\n"
   ]
  },
  {
   "cell_type": "code",
   "execution_count": null,
   "metadata": {},
   "outputs": [],
   "source": [
    "data_dummy = data\n",
    "data_dummy = pd.get_dummies(data_dummy, drop_first = True)\n",
    "data_dummy.info()"
   ]
  },
  {
   "cell_type": "code",
   "execution_count": null,
   "metadata": {},
   "outputs": [],
   "source": [
    "data_test_dummy = data_test\n",
    "data_test_dummy = pd.get_dummies(data_test_dummy, drop_first = True)\n",
    "# data_test_dummy.loc[:,'cabin_letter_T'] = 0\n",
    "data_test_dummy.info()"
   ]
  },
  {
   "cell_type": "code",
   "execution_count": null,
   "metadata": {},
   "outputs": [],
   "source": [
    "from sklearn.neighbors import KNeighborsClassifier\n",
    "from sklearn.model_selection import GridSearchCV\n",
    "from sklearn.ensemble import RandomForestClassifier"
   ]
  },
  {
   "cell_type": "code",
   "execution_count": null,
   "metadata": {},
   "outputs": [],
   "source": [
    "X = data_dummy\n",
    "test_X = data_test_dummy"
   ]
  },
  {
   "cell_type": "code",
   "execution_count": null,
   "metadata": {},
   "outputs": [],
   "source": [
    "from sklearn.model_selection import train_test_split\n",
    "\n",
    "train_X, val_X, train_y, val_y = train_test_split(data_dummy, y, random_state=22)"
   ]
  },
  {
   "cell_type": "code",
   "execution_count": null,
   "metadata": {},
   "outputs": [],
   "source": [
    "import pandas\n",
    "import numpy\n",
    "from sklearn.feature_selection import SelectKBest\n",
    "from sklearn.feature_selection import chi2\n",
    "test = SelectKBest(score_func=chi2, k=4)\n",
    "fit = test.fit(train_X, train_y)\n",
    "# summarize scores\n",
    "numpy.set_printoptions(precision=3)\n",
    "print(fit.scores_)\n",
    "features = fit.transform(train_X)\n",
    "# summarize selected features\n",
    "print(features)\n"
   ]
  },
  {
   "cell_type": "code",
   "execution_count": null,
   "metadata": {},
   "outputs": [],
   "source": [
    "# Using K-fold Cross validation\n",
    "param_grid = {'n_neighbors': np.arange(1,50)}\n",
    "\n",
    "knn = KNeighborsClassifier()\n",
    "knn_cv = GridSearchCV(knn, param_grid, cv = 5)"
   ]
  },
  {
   "cell_type": "code",
   "execution_count": null,
   "metadata": {},
   "outputs": [],
   "source": [
    "knn_cv.fit(train_X, train_y)\n",
    "print(knn_cv.best_params_)\n",
    "print(knn_cv.best_score_)"
   ]
  },
  {
   "cell_type": "code",
   "execution_count": null,
   "metadata": {},
   "outputs": [],
   "source": [
    "knn_2 = KNeighborsClassifier(n_neighbors = 1)\n",
    "knn_2.fit(train_X,train_y)"
   ]
  },
  {
   "cell_type": "code",
   "execution_count": null,
   "metadata": {},
   "outputs": [],
   "source": [
    "knn_2.score(val_X, val_y)"
   ]
  },
  {
   "cell_type": "code",
   "execution_count": null,
   "metadata": {},
   "outputs": [],
   "source": [
    "knn_cv.fit(X, y)\n",
    "print(knn_cv.best_params_)\n",
    "print(knn_cv.best_score_)"
   ]
  },
  {
   "cell_type": "code",
   "execution_count": null,
   "metadata": {},
   "outputs": [],
   "source": [
    "knn = KNeighborsClassifier(n_neighbors = 1)\n",
    "knn.fit(X,y)"
   ]
  },
  {
   "cell_type": "code",
   "execution_count": null,
   "metadata": {},
   "outputs": [],
   "source": [
    "model = RandomForestClassifier(n_estimators = 10)\n",
    "model.fit(X,y)"
   ]
  },
  {
   "cell_type": "code",
   "execution_count": null,
   "metadata": {},
   "outputs": [],
   "source": [
    "predict = knn.predict(test_X)\n",
    "rf_predict = model.predict(test_X)"
   ]
  },
  {
   "cell_type": "code",
   "execution_count": null,
   "metadata": {},
   "outputs": [],
   "source": [
    "# make predictions which we will submit. \n",
    "output = pd.DataFrame({'PassengerId': titanic_test.passengerid,\n",
    "                       'Survived': predict})\n",
    "output.to_csv('../datasets/titanic/submission.csv', index=False)"
   ]
  },
  {
   "cell_type": "code",
   "execution_count": null,
   "metadata": {},
   "outputs": [],
   "source": [
    "# make predictions which we will submit. \n",
    "output = pd.DataFrame({'PassengerId': titanic_test.passengerid,\n",
    "                       'Survived': rf_predict})\n",
    "output.to_csv('../datasets/titanic/rf_submission.csv', index=False)"
   ]
  },
  {
   "cell_type": "code",
   "execution_count": null,
   "metadata": {},
   "outputs": [],
   "source": []
  }
 ],
 "metadata": {
  "kernelspec": {
   "display_name": "100days",
   "language": "python",
   "name": "100days"
  },
  "language_info": {
   "codemirror_mode": {
    "name": "ipython",
    "version": 3
   },
   "file_extension": ".py",
   "mimetype": "text/x-python",
   "name": "python",
   "nbconvert_exporter": "python",
   "pygments_lexer": "ipython3",
   "version": "3.6.5"
  }
 },
 "nbformat": 4,
 "nbformat_minor": 2
}
